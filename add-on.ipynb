{
 "cells": [
  {
   "cell_type": "code",
   "execution_count": 1,
   "metadata": {},
   "outputs": [
    {
     "name": "stdout",
     "output_type": "stream",
     "text": [
      "L,   t_gsl_s, t_g4_s, avg_diff2\n",
      "0 , 0.0390262 , 0.0290322 , 0\n",
      "1 , 0.0497461 , 0.0726489 , 1.03909e-24\n",
      "2 , 0.0562754 , 0.115281 , 4.80259e-24\n",
      "3 , 0.0721993 , 0.159308 , 2.22666e-23\n",
      "4 , 0.0889937 , 0.226623 , 1.65148e-22\n",
      "5 , 0.106134 , 0.425902 , 1.9193e-20\n",
      "6 , 0.145657 , 0.698448 , 1.18497e-19\n",
      "7 , 0.191608 , 1.17941 , 1.04837e-18\n",
      "8 , 0.23956 , 1.86927 , 5.64144e-18\n",
      "9 , 0.263479 , 2.65356 , 2.98868e-16\n"
     ]
    }
   ],
   "source": [
    "#pragma cling add_library_path(\"/usr/local/lib\")\n",
    "#pragma cling load(\"libgsl.dylib\")\n",
    "#pragma cling load(\"libG4processes.dylib\")\n",
    "#include <iostream>\n",
    "#include \"G4LegendrePolynomial.hh\"\n",
    "#include <random>\n",
    "#include <cstdlib>\n",
    "#include \"gsl/gsl_sf_legendre.h\"\n",
    "#include <stdio.h> \n",
    "#include <stdlib.h> \n",
    "#include <chrono>\n",
    "\n",
    "\n",
    "\n",
    "{\n",
    "    G4LegendrePolynomial lp;\n",
    "    gsl_sf_legendre_t norm = GSL_SF_LEGENDRE_NONE;\n",
    "    std::random_device rd;\n",
    "    std::mt19937 mt(rd());\n",
    "    std::uniform_real_distribution<double> xdist(-1, 1);\n",
    "    \n",
    "    std::cout << \"L,  \" << \" t_gsl_s, \" << \"t_g4_s, \" << \"avg_diff2\" << std::endl;    \n",
    "    \n",
    "\n",
    "       for (int l=0; l < 10; ++l){\n",
    "           double gsl_acc_time_ns = 0;\n",
    "           double g4_acc_time_ns = 0;\n",
    "           double sum_diff2 = 0;\n",
    "           double avg_diff2 = 0;\n",
    "           \n",
    "           std::vector<double> result_array(gsl_sf_legendre_array_n(l), 0);\n",
    "           \n",
    "           \n",
    "           for (int i=0; i < 1000000; ++i){\n",
    "                double x = xdist(mt);\n",
    "                \n",
    "                auto started_gsl = std::chrono::high_resolution_clock::now();\n",
    "                gsl_sf_legendre_array_e(norm, l, x, -1, &(result_array[0]));\n",
    "                auto done_gsl = std::chrono::high_resolution_clock::now(); \n",
    "                 \n",
    "                gsl_acc_time_ns += std::chrono::duration_cast<std::chrono::nanoseconds>(done_gsl-started_gsl).count();\n",
    "                \n",
    "                for (int m = 0; m <= l; ++m){\n",
    "                    auto started_g4 = std::chrono::high_resolution_clock::now();\n",
    "                    double alpg4 = lp.EvalAssocLegendrePoly(l, m, x); \n",
    "                    auto done_g4 = std::chrono::high_resolution_clock::now(); \n",
    "                    g4_acc_time_ns += std::chrono::duration_cast<std::chrono::nanoseconds>(done_g4-started_g4).count(); \n",
    "                    \n",
    "               \n",
    "                    double alp_gsl = result_array[gsl_sf_legendre_array_index(l, m)] ;\n",
    "                    sum_diff2 += pow(alp_gsl - alpg4, 2);\n",
    "                    avg_diff2 = sqrt(sum_diff2 * 1e-18/(2000*l+1000));\n",
    "                      \n",
    "               } // loop over m\n",
    "           } // loop over i\n",
    "     \n",
    "            std::cout << l << \" , \" <<  gsl_acc_time_ns * 1e-9 << \" , \" << g4_acc_time_ns * 1e-9 << \" , \" << avg_diff2 << std::endl;\n",
    "            \n",
    "       } // loop over l\n",
    "\n",
    "}\n",
    "   "
   ]
  },
  {
   "cell_type": "code",
   "execution_count": null,
   "metadata": {},
   "outputs": [],
   "source": []
  }
 ],
 "metadata": {
  "kernelspec": {
   "display_name": "C++17",
   "language": "C++17",
   "name": "xeus-cling-cpp17"
  },
  "language_info": {
   "codemirror_mode": "text/x-c++src",
   "file_extension": ".cpp",
   "mimetype": "text/x-c++src",
   "name": "c++",
   "version": "-std=c++17"
  }
 },
 "nbformat": 4,
 "nbformat_minor": 2
}
