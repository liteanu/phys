{
 "cells": [
  {
   "cell_type": "code",
   "execution_count": 1,
   "metadata": {},
   "outputs": [],
   "source": [
    "import numpy as np\n",
    "import math as ma\n",
    "\n",
    "def nCr(l,k): \n",
    "    val=1 \n",
    "    for i in range(k): \n",
    "        val*=(l-i)\n",
    "    return val/ma.factorial(k)\n",
    "\n",
    "def PCP(l,m,k):\n",
    "    return (-1)**m * 2**l  * ma.factorial(k)/ma.factorial(k-m)*nCr(l,k)*nCr((l+k-1)/2, l)\n",
    "\n",
    "def P(l,m,x):\n",
    "    thing=0\n",
    "    for k in np.arange(m, l+1):\n",
    "        thing+=PCP(l, m, k) * x**(k-m)\n",
    "    return thing*(1-x**2)**(m/2)"
   ]
  },
  {
   "cell_type": "code",
   "execution_count": 2,
   "metadata": {},
   "outputs": [
    {
     "data": {
      "text/plain": [
       "1716775.4866872663"
      ]
     },
     "execution_count": 2,
     "metadata": {},
     "output_type": "execute_result"
    }
   ],
   "source": [
    "P(64,4,0)"
   ]
  },
  {
   "cell_type": "code",
   "execution_count": null,
   "metadata": {},
   "outputs": [],
   "source": [
    "#pack it all up in one go now."
   ]
  }
 ],
 "metadata": {
  "kernelspec": {
   "display_name": "Python 3",
   "language": "python",
   "name": "python3"
  },
  "language_info": {
   "codemirror_mode": {
    "name": "ipython",
    "version": 3
   },
   "file_extension": ".py",
   "mimetype": "text/x-python",
   "name": "python",
   "nbconvert_exporter": "python",
   "pygments_lexer": "ipython3",
   "version": "3.7.4"
  }
 },
 "nbformat": 4,
 "nbformat_minor": 2
}
