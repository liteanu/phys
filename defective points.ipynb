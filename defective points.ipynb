{
 "cells": [
  {
   "cell_type": "code",
   "execution_count": 21,
   "metadata": {},
   "outputs": [
    {
     "name": "stdout",
     "output_type": "stream",
     "text": [
      "-460.347 vs.-460.347\n",
      "-2071.56 vs.265.781\n",
      "-42.6247 vs.-42.6247\n",
      "-4.92188 vs.-4.92188\n",
      "12.7874 vs.0\n",
      "-5962.57 vs.0\n",
      "116.685 vs.0\n",
      "4385.39 vs.0\n",
      "59.0625 vs.59.0625\n",
      "-9.74279 vs.-9.74279\n",
      "24119.6 vs.0\n",
      "0 vs.0.0898438\n",
      "-34.0998 vs.-34.0998\n",
      "4.21875 vs.4.21875\n"
     ]
    },
    {
     "data": {
      "text/plain": [
       "0"
      ]
     },
     "execution_count": 21,
     "metadata": {},
     "output_type": "execute_result"
    }
   ],
   "source": [
    "#pragma cling add_library_path(\"/usr/local/lib\")\n",
    "#pragma cling load(\"libgsl.dylib\")\n",
    "#pragma cling add_include_path(\"/Users/USER/Downloads/geant4.10.04.p02/install/include/Geant4\")\n",
    "#pragma cling add_library_path(\"/Users/USER/Downloads/geant4.10.04.p02/install/lib/\")\n",
    "#pragma cling load(\"libG4processes.dylib\")\n",
    "#include \"G4LegendrePolynomial.hh\"\n",
    "#include <random>\n",
    "#include <cstdlib>\n",
    "#include <stdio.h> \n",
    "#include <stdlib.h> \n",
    "#include <chrono>\n",
    "#include <iostream>\n",
    "#include <vector>\n",
    "#include \"gsl/gsl_sf_legendre.h\"\n",
    "\n",
    "\n",
    "using namespace std;\n",
    "{   \n",
    "    G4LegendrePolynomial lp;  \n",
    "        \n",
    "    gsl_sf_legendre_t norm = GSL_SF_LEGENDRE_NONE;\n",
    "    //size_t ll = 6;\n",
    "    //size_t mm = 5;\n",
    "    size_t ll=5;\n",
    "    size_t mm=4;\n",
    "    vector<double> result_array(gsl_sf_legendre_array_n(ll), 0);\n",
    "    double xx = 0.5;\n",
    "    gsl_sf_legendre_array_e(norm, ll, xx, -1, &(result_array[0]));\n",
    "    /*good*/ cout << lp.EvalAssocLegendrePoly(5, 5, xx) << \" vs.\" << result_array[gsl_sf_legendre_array_index(5, 5)] << endl; \n",
    "    cout << lp.EvalAssocLegendrePoly(5, 4, xx) << \" vs.\" << result_array[gsl_sf_legendre_array_index(5, 4)] << endl;\n",
    "    /*good*/ cout << lp.EvalAssocLegendrePoly(5, 3, xx) << \" vs.\" << result_array[gsl_sf_legendre_array_index(5, 3)] << endl;\n",
    "    /*good*/ cout << lp.EvalAssocLegendrePoly(5, 2, xx) << \" vs.\" << result_array[gsl_sf_legendre_array_index(5, 2)] << endl;\n",
    "    cout << lp.EvalAssocLegendrePoly(6, 3, xx) << \" vs.\" << result_array[gsl_sf_legendre_array_index(6, 3)] << endl;\n",
    "    cout << lp.EvalAssocLegendrePoly(6, 4, xx) << \" vs.\" << result_array[gsl_sf_legendre_array_index(6, 4)] << endl;\n",
    "    cout << lp.EvalAssocLegendrePoly(7, 3, xx) << \" vs.\" << result_array[gsl_sf_legendre_array_index(7, 3)] << endl;\n",
    "    cout << lp.EvalAssocLegendrePoly(6, 6, xx) << \" vs.\" << result_array[gsl_sf_legendre_array_index(6, 6)] << endl;\n",
    "    /*good*/ cout << lp.EvalAssocLegendrePoly(4, 4, xx) << \" vs.\" << result_array[gsl_sf_legendre_array_index(4, 4)] << endl;\n",
    "    /*good*/ cout << lp.EvalAssocLegendrePoly(3, 3, xx) << \" vs.\" << result_array[gsl_sf_legendre_array_index(3, 3)] << endl;\n",
    "    cout << lp.EvalAssocLegendrePoly(6, 5, xx) << \" vs.\" << result_array[gsl_sf_legendre_array_index(6, 5)] << endl;\n",
    "    cout << lp.EvalAssocLegendrePoly(4, 5, xx) << \" vs.\" << result_array[gsl_sf_legendre_array_index(4, 5)] << endl;\n",
    "    /*good*/ cout << lp.EvalAssocLegendrePoly(4, 3, xx) << \" vs.\" << result_array[gsl_sf_legendre_array_index(4, 3)] << endl;\n",
    "    /*good*/ cout << lp.EvalAssocLegendrePoly(4, 2, xx) << \" vs.\" << result_array[gsl_sf_legendre_array_index(4, 2)] << endl;\n",
    "    \n",
    "    \n",
    "    //cout << -460.347*0.5*(2.*4+1.) << endl;\n",
    "    return 0;\n",
    "}"
   ]
  },
  {
   "cell_type": "code",
   "execution_count": 22,
   "metadata": {},
   "outputs": [
    {
     "name": "stdout",
     "output_type": "stream",
     "text": [
      "-460.347 vs.-460.347\n",
      "-2071.56 vs.265.781\n",
      "-42.6247 vs.-42.6247\n",
      "-4.92188 vs.-4.92188\n",
      "12.7874 vs.12.7874\n",
      "-5962.57 vs.465.117\n",
      "116.685 vs.0\n",
      "4385.39 vs.4385.39\n",
      "59.0625 vs.59.0625\n",
      "-9.74279 vs.-9.74279\n",
      "24119.6 vs.-2531.91\n",
      "0 vs.0.0898438\n",
      "-34.0998 vs.-34.0998\n",
      "4.21875 vs.4.21875\n"
     ]
    },
    {
     "data": {
      "text/plain": [
       "0"
      ]
     },
     "execution_count": 22,
     "metadata": {},
     "output_type": "execute_result"
    }
   ],
   "source": [
    "#pragma cling add_library_path(\"/usr/local/lib\")\n",
    "#pragma cling load(\"libgsl.dylib\")\n",
    "#pragma cling add_include_path(\"/Users/USER/Downloads/geant4.10.04.p02/install/include/Geant4\")\n",
    "#pragma cling add_library_path(\"/Users/USER/Downloads/geant4.10.04.p02/install/lib/\")\n",
    "#pragma cling load(\"libG4processes.dylib\")\n",
    "#include \"G4LegendrePolynomial.hh\"\n",
    "#include <random>\n",
    "#include <cstdlib>\n",
    "#include <stdio.h> \n",
    "#include <stdlib.h> \n",
    "#include <chrono>\n",
    "#include <iostream>\n",
    "#include <vector>\n",
    "#include \"gsl/gsl_sf_legendre.h\"\n",
    "\n",
    "\n",
    "using namespace std;\n",
    "{   \n",
    "    G4LegendrePolynomial lp;  \n",
    "        \n",
    "    gsl_sf_legendre_t norm = GSL_SF_LEGENDRE_NONE;\n",
    "    size_t ll = 6;\n",
    "    size_t mm = 5;\n",
    "\n",
    "    vector<double> result_array(gsl_sf_legendre_array_n(ll), 0);\n",
    "    double xx = 0.5;\n",
    "    gsl_sf_legendre_array_e(norm, ll, xx, -1, &(result_array[0]));\n",
    "    /*good*/ cout << lp.EvalAssocLegendrePoly(5, 5, xx) << \" vs.\" << result_array[gsl_sf_legendre_array_index(5, 5)] << endl; \n",
    "    cout << lp.EvalAssocLegendrePoly(5, 4, xx) << \" vs.\" << result_array[gsl_sf_legendre_array_index(5, 4)] << endl;\n",
    "    /*good*/ cout << lp.EvalAssocLegendrePoly(5, 3, xx) << \" vs.\" << result_array[gsl_sf_legendre_array_index(5, 3)] << endl;\n",
    "    /*good*/ cout << lp.EvalAssocLegendrePoly(5, 2, xx) << \" vs.\" << result_array[gsl_sf_legendre_array_index(5, 2)] << endl;\n",
    "    cout << lp.EvalAssocLegendrePoly(6, 3, xx) << \" vs.\" << result_array[gsl_sf_legendre_array_index(6, 3)] << endl;\n",
    "    cout << lp.EvalAssocLegendrePoly(6, 4, xx) << \" vs.\" << result_array[gsl_sf_legendre_array_index(6, 4)] << endl;\n",
    "    cout << lp.EvalAssocLegendrePoly(7, 3, xx) << \" vs.\" << result_array[gsl_sf_legendre_array_index(7, 3)] << endl;\n",
    "    cout << lp.EvalAssocLegendrePoly(6, 6, xx) << \" vs.\" << result_array[gsl_sf_legendre_array_index(6, 6)] << endl;\n",
    "    /*good*/ cout << lp.EvalAssocLegendrePoly(4, 4, xx) << \" vs.\" << result_array[gsl_sf_legendre_array_index(4, 4)] << endl;\n",
    "    /*good*/ cout << lp.EvalAssocLegendrePoly(3, 3, xx) << \" vs.\" << result_array[gsl_sf_legendre_array_index(3, 3)] << endl;\n",
    "    cout << lp.EvalAssocLegendrePoly(6, 5, xx) << \" vs.\" << result_array[gsl_sf_legendre_array_index(6, 5)] << endl;\n",
    "    cout << lp.EvalAssocLegendrePoly(4, 5, xx) << \" vs.\" << result_array[gsl_sf_legendre_array_index(4, 5)] << endl;\n",
    "    /*good*/ cout << lp.EvalAssocLegendrePoly(4, 3, xx) << \" vs.\" << result_array[gsl_sf_legendre_array_index(4, 3)] << endl;\n",
    "    /*good*/ cout << lp.EvalAssocLegendrePoly(4, 2, xx) << \" vs.\" << result_array[gsl_sf_legendre_array_index(4, 2)] << endl;\n",
    "    \n",
    "    \n",
    "    //cout << -460.347*0.5*(2.*4+1.) << endl;\n",
    "    return 0;\n",
    "}"
   ]
  },
  {
   "cell_type": "code",
   "execution_count": 24,
   "metadata": {},
   "outputs": [
    {
     "name": "stdout",
     "output_type": "stream",
     "text": [
      "-460.347 vs.-460.347\n",
      "-2071.56 vs.265.781\n",
      "-42.6247 vs.-42.6247\n",
      "-4.92188 vs.-4.92188\n",
      "12.7874 vs.12.7874\n",
      "-5962.57 vs.465.117\n",
      "116.685 vs.116.685\n",
      "4385.39 vs.4385.39\n",
      "59.0625 vs.59.0625\n",
      "-9.74279 vs.-9.74279\n",
      "24119.6 vs.-2531.91\n",
      "0 vs.0.0898438\n",
      "-34.0998 vs.-34.0998\n",
      "4.21875 vs.4.21875\n"
     ]
    },
    {
     "data": {
      "text/plain": [
       "0"
      ]
     },
     "execution_count": 24,
     "metadata": {},
     "output_type": "execute_result"
    }
   ],
   "source": [
    "#pragma cling add_library_path(\"/usr/local/lib\")\n",
    "#pragma cling load(\"libgsl.dylib\")\n",
    "#pragma cling add_include_path(\"/Users/USER/Downloads/geant4.10.04.p02/install/include/Geant4\")\n",
    "#pragma cling add_library_path(\"/Users/USER/Downloads/geant4.10.04.p02/install/lib/\")\n",
    "#pragma cling load(\"libG4processes.dylib\")\n",
    "#include \"G4LegendrePolynomial.hh\"\n",
    "#include <random>\n",
    "#include <cstdlib>\n",
    "#include <stdio.h> \n",
    "#include <stdlib.h> \n",
    "#include <chrono>\n",
    "#include <iostream>\n",
    "#include <vector>\n",
    "#include \"gsl/gsl_sf_legendre.h\"\n",
    "\n",
    "\n",
    "using namespace std;\n",
    "{   \n",
    "    G4LegendrePolynomial lp;  \n",
    "        \n",
    "    gsl_sf_legendre_t norm = GSL_SF_LEGENDRE_NONE;\n",
    "    size_t ll=7;\n",
    "    size_t mm=5;\n",
    "    vector<double> result_array(gsl_sf_legendre_array_n(ll), 0);\n",
    "    double xx = 0.5;\n",
    "    gsl_sf_legendre_array_e(norm, ll, xx, -1, &(result_array[0]));\n",
    "    /*good*/ cout << lp.EvalAssocLegendrePoly(5, 5, xx) << \" vs.\" << result_array[gsl_sf_legendre_array_index(5, 5)] << endl; \n",
    "    cout << lp.EvalAssocLegendrePoly(5, 4, xx) << \" vs.\" << result_array[gsl_sf_legendre_array_index(5, 4)] << endl;\n",
    "    /*good*/ cout << lp.EvalAssocLegendrePoly(5, 3, xx) << \" vs.\" << result_array[gsl_sf_legendre_array_index(5, 3)] << endl;\n",
    "    /*good*/ cout << lp.EvalAssocLegendrePoly(5, 2, xx) << \" vs.\" << result_array[gsl_sf_legendre_array_index(5, 2)] << endl;\n",
    "    cout << lp.EvalAssocLegendrePoly(6, 3, xx) << \" vs.\" << result_array[gsl_sf_legendre_array_index(6, 3)] << endl;\n",
    "    cout << lp.EvalAssocLegendrePoly(6, 4, xx) << \" vs.\" << result_array[gsl_sf_legendre_array_index(6, 4)] << endl;\n",
    "    cout << lp.EvalAssocLegendrePoly(7, 3, xx) << \" vs.\" << result_array[gsl_sf_legendre_array_index(7, 3)] << endl;\n",
    "    cout << lp.EvalAssocLegendrePoly(6, 6, xx) << \" vs.\" << result_array[gsl_sf_legendre_array_index(6, 6)] << endl;\n",
    "    /*good*/ cout << lp.EvalAssocLegendrePoly(4, 4, xx) << \" vs.\" << result_array[gsl_sf_legendre_array_index(4, 4)] << endl;\n",
    "    /*good*/ cout << lp.EvalAssocLegendrePoly(3, 3, xx) << \" vs.\" << result_array[gsl_sf_legendre_array_index(3, 3)] << endl;\n",
    "    cout << lp.EvalAssocLegendrePoly(6, 5, xx) << \" vs.\" << result_array[gsl_sf_legendre_array_index(6, 5)] << endl;\n",
    "    cout << lp.EvalAssocLegendrePoly(4, 5, xx) << \" vs.\" << result_array[gsl_sf_legendre_array_index(4, 5)] << endl;\n",
    "    /*good*/ cout << lp.EvalAssocLegendrePoly(4, 3, xx) << \" vs.\" << result_array[gsl_sf_legendre_array_index(4, 3)] << endl;\n",
    "    /*good*/ cout << lp.EvalAssocLegendrePoly(4, 2, xx) << \" vs.\" << result_array[gsl_sf_legendre_array_index(4, 2)] << endl;\n",
    "    \n",
    "    \n",
    "    //cout << -460.347*0.5*(2.*4+1.) << endl;\n",
    "    return 0;\n",
    "}"
   ]
  },
  {
   "cell_type": "code",
   "execution_count": 25,
   "metadata": {},
   "outputs": [
    {
     "name": "stdout",
     "output_type": "stream",
     "text": [
      "-460.347 vs.-460.347\n",
      "-2071.56 vs.265.781\n",
      "-42.6247 vs.-42.6247\n",
      "-4.92188 vs.-4.92188\n",
      "12.7874 vs.12.7874\n",
      "-5962.57 vs.465.117\n",
      "116.685 vs.116.685\n",
      "4385.39 vs.4385.39\n",
      "59.0625 vs.59.0625\n",
      "-9.74279 vs.-9.74279\n",
      "24119.6 vs.-2531.91\n",
      "0 vs.0.0898438\n",
      "-34.0998 vs.-34.0998\n",
      "4.21875 vs.4.21875\n"
     ]
    },
    {
     "data": {
      "text/plain": [
       "0"
      ]
     },
     "execution_count": 25,
     "metadata": {},
     "output_type": "execute_result"
    }
   ],
   "source": [
    "#pragma cling add_library_path(\"/usr/local/lib\")\n",
    "#pragma cling load(\"libgsl.dylib\")\n",
    "#pragma cling add_include_path(\"/Users/USER/Downloads/geant4.10.04.p02/install/include/Geant4\")\n",
    "#pragma cling add_library_path(\"/Users/USER/Downloads/geant4.10.04.p02/install/lib/\")\n",
    "#pragma cling load(\"libG4processes.dylib\")\n",
    "#include \"G4LegendrePolynomial.hh\"\n",
    "#include <random>\n",
    "#include <cstdlib>\n",
    "#include <stdio.h> \n",
    "#include <stdlib.h> \n",
    "#include <chrono>\n",
    "#include <iostream>\n",
    "#include <vector>\n",
    "#include \"gsl/gsl_sf_legendre.h\"\n",
    "\n",
    "\n",
    "using namespace std;\n",
    "{   \n",
    "    G4LegendrePolynomial lp;  \n",
    "        \n",
    "    gsl_sf_legendre_t norm = GSL_SF_LEGENDRE_NONE;\n",
    "    size_t ll=7;\n",
    "    size_t mm=6;\n",
    "    vector<double> result_array(gsl_sf_legendre_array_n(ll), 0);\n",
    "    double xx = 0.5;\n",
    "    gsl_sf_legendre_array_e(norm, ll, xx, -1, &(result_array[0]));\n",
    "    /*good*/ cout << lp.EvalAssocLegendrePoly(5, 5, xx) << \" vs.\" << result_array[gsl_sf_legendre_array_index(5, 5)] << endl; \n",
    "    cout << lp.EvalAssocLegendrePoly(5, 4, xx) << \" vs.\" << result_array[gsl_sf_legendre_array_index(5, 4)] << endl;\n",
    "    /*good*/ cout << lp.EvalAssocLegendrePoly(5, 3, xx) << \" vs.\" << result_array[gsl_sf_legendre_array_index(5, 3)] << endl;\n",
    "    /*good*/ cout << lp.EvalAssocLegendrePoly(5, 2, xx) << \" vs.\" << result_array[gsl_sf_legendre_array_index(5, 2)] << endl;\n",
    "    cout << lp.EvalAssocLegendrePoly(6, 3, xx) << \" vs.\" << result_array[gsl_sf_legendre_array_index(6, 3)] << endl;\n",
    "    cout << lp.EvalAssocLegendrePoly(6, 4, xx) << \" vs.\" << result_array[gsl_sf_legendre_array_index(6, 4)] << endl;\n",
    "    cout << lp.EvalAssocLegendrePoly(7, 3, xx) << \" vs.\" << result_array[gsl_sf_legendre_array_index(7, 3)] << endl;\n",
    "    cout << lp.EvalAssocLegendrePoly(6, 6, xx) << \" vs.\" << result_array[gsl_sf_legendre_array_index(6, 6)] << endl;\n",
    "    /*good*/ cout << lp.EvalAssocLegendrePoly(4, 4, xx) << \" vs.\" << result_array[gsl_sf_legendre_array_index(4, 4)] << endl;\n",
    "    /*good*/ cout << lp.EvalAssocLegendrePoly(3, 3, xx) << \" vs.\" << result_array[gsl_sf_legendre_array_index(3, 3)] << endl;\n",
    "    cout << lp.EvalAssocLegendrePoly(6, 5, xx) << \" vs.\" << result_array[gsl_sf_legendre_array_index(6, 5)] << endl;\n",
    "    cout << lp.EvalAssocLegendrePoly(4, 5, xx) << \" vs.\" << result_array[gsl_sf_legendre_array_index(4, 5)] << endl;\n",
    "    /*good*/ cout << lp.EvalAssocLegendrePoly(4, 3, xx) << \" vs.\" << result_array[gsl_sf_legendre_array_index(4, 3)] << endl;\n",
    "    /*good*/ cout << lp.EvalAssocLegendrePoly(4, 2, xx) << \" vs.\" << result_array[gsl_sf_legendre_array_index(4, 2)] << endl;\n",
    "    \n",
    "    \n",
    "    //cout << -460.347*0.5*(2.*4+1.) << endl;\n",
    "    return 0;\n",
    "}"
   ]
  },
  {
   "cell_type": "code",
   "execution_count": null,
   "metadata": {},
   "outputs": [],
   "source": []
  }
 ],
 "metadata": {
  "kernelspec": {
   "display_name": "C++17",
   "language": "C++17",
   "name": "xeus-cling-cpp17"
  },
  "language_info": {
   "codemirror_mode": "text/x-c++src",
   "file_extension": ".cpp",
   "mimetype": "text/x-c++src",
   "name": "c++",
   "version": "-std=c++17"
  }
 },
 "nbformat": 4,
 "nbformat_minor": 2
}
