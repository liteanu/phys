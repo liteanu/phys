{
 "cells": [
  {
   "cell_type": "code",
   "execution_count": 1,
   "metadata": {},
   "outputs": [
    {
     "name": "stdout",
     "output_type": "stream",
     "text": [
      "L,   t_gsl_s, t_g4_s, diff2\n",
      "0 , 0.0402801 , 0.0297562 , 0\n",
      "1 , 0.0467552 , 0.0690549 , 3.17018e-45\n",
      "2 , 0.0518691 , 0.10286 , 1.14435e-43\n",
      "3 , 0.0661832 , 0.140879 , 3.48413e-42\n",
      "4 , 0.0784612 , 0.199306 , 2.46253e-40\n",
      "5 , 0.112947 , 0.438049 , 4.05538e-36\n",
      "6 , 0.147027 , 0.690096 , 1.82395e-34\n",
      "7 , 0.180548 , 1.09393 , 1.64465e-32\n",
      "8 , 0.206648 , 1.60344 , 5.41531e-31\n",
      "9 , 0.267079 , 2.66795 , 1.6964e-27\n"
     ]
    }
   ],
   "source": [
    "#pragma cling add_library_path(\"/usr/local/lib\")\n",
    "#pragma cling load(\"libgsl.dylib\")\n",
    "#pragma cling load(\"libG4processes.dylib\")\n",
    "#include <iostream>\n",
    "#include \"G4LegendrePolynomial.hh\"\n",
    "#include <random>\n",
    "#include <cstdlib>\n",
    "#include \"gsl/gsl_sf_legendre.h\"\n",
    "#include <stdio.h> \n",
    "#include <stdlib.h> \n",
    "#include <chrono>\n",
    "\n",
    "#include <iomanip>\n",
    "\n",
    "{\n",
    "    G4LegendrePolynomial lp;\n",
    "    gsl_sf_legendre_t norm = GSL_SF_LEGENDRE_NONE;\n",
    "    std::random_device rd;\n",
    "    std::mt19937 mt(rd());\n",
    "    std::uniform_real_distribution<double> xdist(-1, 1);\n",
    "    \n",
    "    std::cout << \"L,  \" << \" t_gsl_s, \" << \"t_g4_s, \" << \"diff2\" << std::endl;    \n",
    "    \n",
    "\n",
    "       for (int l=0; l < 10; ++l){\n",
    "           double gsl_acc_time_ns = 0;\n",
    "           double g4_acc_time_ns = 0;\n",
    "           double sum_diff2 = 0;\n",
    "           \n",
    "           std::vector<double> result_array(gsl_sf_legendre_array_n(l), 0);\n",
    "           \n",
    "           \n",
    "           for (int i=0; i < 1000000; ++i){\n",
    "                double x = xdist(mt);\n",
    "                \n",
    "                auto started_gsl = std::chrono::high_resolution_clock::now();\n",
    "                gsl_sf_legendre_array_e(norm, l, x, -1, &(result_array[0]));\n",
    "                auto done_gsl = std::chrono::high_resolution_clock::now(); \n",
    "                 \n",
    "                gsl_acc_time_ns += std::chrono::duration_cast<std::chrono::nanoseconds>(done_gsl-started_gsl).count();\n",
    "                \n",
    "                for (int m = 0; m <= l; ++m){\n",
    "                    auto started_g4 = std::chrono::high_resolution_clock::now();\n",
    "                    double alpg4 = lp.EvalAssocLegendrePoly(l, m, x); \n",
    "                    auto done_g4 = std::chrono::high_resolution_clock::now(); \n",
    "                    g4_acc_time_ns += std::chrono::duration_cast<std::chrono::nanoseconds>(done_g4-started_g4).count(); \n",
    "                    \n",
    "               \n",
    "                    double alp_gsl = result_array[gsl_sf_legendre_array_index(l, m)] ;\n",
    "                    sum_diff2 += pow(alp_gsl - alpg4, 2);\n",
    "                      \n",
    "               } // loop over m\n",
    "           } // loop over i\n",
    "     \n",
    "            std::cout << l << \" , \" <<  gsl_acc_time_ns * 1e-9 << \" , \" << g4_acc_time_ns * 1e-9 << \" , \" <<   sum_diff2 * 1e-18 << std::endl;\n",
    "            \n",
    "       } // loop over l\n",
    "\n",
    "}\n",
    "   "
   ]
  },
  {
   "cell_type": "code",
   "execution_count": null,
   "metadata": {},
   "outputs": [],
   "source": []
  }
 ],
 "metadata": {
  "kernelspec": {
   "display_name": "C++17",
   "language": "C++17",
   "name": "xeus-cling-cpp17"
  },
  "language_info": {
   "codemirror_mode": "text/x-c++src",
   "file_extension": ".cpp",
   "mimetype": "text/x-c++src",
   "name": "c++",
   "version": "-std=c++17"
  }
 },
 "nbformat": 4,
 "nbformat_minor": 2
}
