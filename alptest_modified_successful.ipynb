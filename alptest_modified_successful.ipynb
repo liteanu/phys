{
 "cells": [
  {
   "cell_type": "code",
   "execution_count": 6,
   "metadata": {},
   "outputs": [
    {
     "name": "stdout",
     "output_type": "stream",
     "text": [
      "-1.29904 vs.-1.29904\n"
     ]
    },
    {
     "data": {
      "text/plain": [
       "0"
      ]
     },
     "execution_count": 6,
     "metadata": {},
     "output_type": "execute_result"
    }
   ],
   "source": [
    "#include <iostream>\n",
    "#include <vector>\n",
    "#include \"gsl/gsl_sf_legendre.h\"\n",
    "#include \"G4LegendrePolynomial.hh\"\n",
    "\n",
    "using namespace std;\n",
    "    {   \n",
    "    G4LegendrePolynomial lp;  \n",
    "        \n",
    "    gsl_sf_legendre_t norm = GSL_SF_LEGENDRE_NONE;\n",
    "    size_t ll = 2;\n",
    "    size_t mm = 1;\n",
    "    vector<double> result_array(gsl_sf_legendre_array_n(ll), 0);\n",
    "    double xx = 0.5;\n",
    "    gsl_sf_legendre_array_e(norm, ll, xx, -1, &(result_array[0]));\n",
    "    cout << lp.EvalAssocLegendrePoly(ll, mm, xx) << \" vs.\" << result_array[gsl_sf_legendre_array_index(ll, mm)] << endl;\n",
    "    return 0;\n",
    "    }"
   ]
  },
  {
   "cell_type": "code",
   "execution_count": null,
   "metadata": {},
   "outputs": [],
   "source": []
  }
 ],
 "metadata": {
  "kernelspec": {
   "display_name": "C++17",
   "language": "C++17",
   "name": "xeus-cling-cpp17"
  },
  "language_info": {
   "codemirror_mode": "text/x-c++src",
   "file_extension": ".cpp",
   "mimetype": "text/x-c++src",
   "name": "c++",
   "version": "-std=c++17"
  }
 },
 "nbformat": 4,
 "nbformat_minor": 2
}
